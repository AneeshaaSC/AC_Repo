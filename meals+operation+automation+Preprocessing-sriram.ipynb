{
 "cells": [
  {
   "cell_type": "markdown",
   "metadata": {
    "collapsed": false
   },
   "source": [
    "### Pre Process Steps to combine pax and flight data set"
   ]
  },
  {
   "cell_type": "code",
   "execution_count": 1,
   "metadata": {
    "collapsed": false
   },
   "outputs": [
    {
     "name": "stdout",
     "output_type": "stream",
     "text": [
      "Starting Spark application\n"
     ]
    },
    {
     "data": {
      "text/html": [
       "<table>\n",
       "<tr><th>ID</th><th>YARN Application ID</th><th>Kind</th><th>State</th><th>Spark UI</th><th>Driver log</th><th>Current session?</th></tr><tr><td>261</td><td>application_1526256902441_5890</td><td>pyspark3</td><td>idle</td><td><a target=\"_blank\" href=\"http://hn1-ge-spa.ympkagzigm5elfiwak4c3kqbbb.fx.internal.cloudapp.net:8088/proxy/application_1526256902441_5890/\">Link</a></td><td><a target=\"_blank\" href=\"http://wn0-ge-spa.ympkagzigm5elfiwak4c3kqbbb.fx.internal.cloudapp.net:30060/node/containerlogs/container_e07_1526256902441_5890_01_000001/livy\">Link</a></td><td>✔</td></tr></table>"
      ],
      "text/plain": [
       "<IPython.core.display.HTML object>"
      ]
     },
     "metadata": {},
     "output_type": "display_data"
    },
    {
     "name": "stdout",
     "output_type": "stream",
     "text": [
      "SparkSession available as 'spark'.\n"
     ]
    }
   ],
   "source": [
    "### Importing required python package\n",
    "import pandas as pd\n",
    "import numpy as np\n",
    "import json          \n",
    "from pyspark.sql import SparkSession \n",
    "\n",
    "### This code is for POC purpose. Dont deploy this in production environment without tuning further and \n",
    "### exception handling"
   ]
  },
  {
   "cell_type": "code",
   "execution_count": 2,
   "metadata": {
    "collapsed": false
   },
   "outputs": [
    {
     "name": "stdout",
     "output_type": "stream",
     "text": [
      "'2018-06-11 16:36:55'"
     ]
    }
   ],
   "source": [
    "import time\n",
    "starttime = time.time()\n",
    "\n",
    "from time import gmtime, strftime\n",
    "strftime(\"%Y-%m-%d %H:%M:%S\", gmtime())"
   ]
  },
  {
   "cell_type": "code",
   "execution_count": 3,
   "metadata": {
    "collapsed": false
   },
   "outputs": [
    {
     "name": "stdout",
     "output_type": "stream",
     "text": [
      "The entire load will happen upto 2018-05-20 00:00:00\n",
      "and this is fullload"
     ]
    }
   ],
   "source": [
    "## Define Increment Load or Full Load\n",
    "loadtype = 'fullload'\n",
    "rundate =  '05/20/2018'\n",
    "\n",
    "import datetime\n",
    "\n",
    "# naive datetime\n",
    "rundate = datetime.datetime.strptime(rundate, '%m/%d/%Y')\n",
    "\n",
    "print(\"The entire load will happen upto {}\".format(rundate))\n",
    "print(\"and this is {}\".format(loadtype))\n"
   ]
  },
  {
   "cell_type": "code",
   "execution_count": 4,
   "metadata": {
    "collapsed": false
   },
   "outputs": [],
   "source": [
    "### Create spark session \n",
    "### This steps required to run from jupyter\n",
    "spark = SparkSession.builder.appName(\"First SparkSession\").getOrCreate()"
   ]
  },
  {
   "cell_type": "code",
   "execution_count": 5,
   "metadata": {
    "collapsed": false
   },
   "outputs": [],
   "source": [
    "### creating dataset to bring mod data.\n",
    "### Table Name: meals_mod_data_mvp3_filtered\n",
    "### Data is limited to 100 for testing. Change the query for bringing entire dataset\n",
    "\n",
    "spark_mod = spark.sql(\"SELECT distinct q1.doctype, q1.fltKey, q1.channels FROM meals_mod_data_mvp3_filtered jv LATERAL VIEW JSON_TUPLE(jv.value, 'DocType','FltKey','channels') q1 AS doctype, fltKey, channels where q1.doctype = 'Order' LIMIT 100\")\n",
    "\n",
    "### Cleaning spark_mod data\n",
    "spark_mod = spark_mod.withColumn('flight_number' , spark_mod.channels.substr(3, 4) ).withColumn('board_point' , spark_mod.channels.substr(8, 3) ).withColumn('operation_date_time' , spark_mod.channels.substr(12, 12) )\n",
    "\n",
    "spark_mod = spark_mod.drop(\"channels\" )"
   ]
  },
  {
   "cell_type": "code",
   "execution_count": 6,
   "metadata": {
    "collapsed": false
   },
   "outputs": [
    {
     "name": "stdout",
     "output_type": "stream",
     "text": [
      "+-------+---------+-------------+-----------+-------------------+\n",
      "|doctype|   fltKey|flight_number|board_point|operation_date_time|\n",
      "+-------+---------+-------------+-----------+-------------------+\n",
      "|  Order|  1855308|         0201|        DXB|       201801070830|\n",
      "|  Order|  1861212|         0201|        DXB|       201801180830|\n",
      "|  Order|  1886707|         0201|        DXB|       201803070830|\n",
      "|  Order|  1853084|         0202|        JFK|       201801022300|\n",
      "|  Order|999999992|         0202|        JFK|       201804072300|\n",
      "|  Order|  1903260|         0202|        JFK|       201804062300|\n",
      "|  Order|  1873066|         0074|        CDG|       201802091425|\n",
      "|  Order|  1911053|         0074|        CDG|       201804211535|\n",
      "|  Order|  1814953|         0081|        DXB|       201710231435|\n",
      "|  Order|  1822261|         0081|        DXB|       201711061450|\n",
      "|  Order|  1884668|         0081|        DXB|       201803031450|\n",
      "|  Order|  1912419|         0087|        DXB|       201804240840|\n",
      "|  Order|  1896293|         0139|        DXB|       201803250835|\n",
      "|  Order|  1912951|         0139|        DXB|       201804250835|\n",
      "|  Order|  1810957|         0406|        MEL|       201710160810|\n",
      "|  Order|  1714604|         0050|        MUC|       201704191540|\n",
      "|  Order|  1739808|         0050|        MUC|       201706051540|\n",
      "|  Order|  1761702|         0307|        PEK|       201707160040|\n",
      "|  Order|  1802316|         0406|        DXB|       201709291015|\n",
      "|  Order|  1843769|         0043|        DXB|       201712170320|\n",
      "+-------+---------+-------------+-----------+-------------------+\n",
      "only showing top 20 rows"
     ]
    }
   ],
   "source": [
    "### testing spark_mod data \n",
    "#print(spark_mod.count())\n",
    "spark_mod.show()"
   ]
  },
  {
   "cell_type": "code",
   "execution_count": 6,
   "metadata": {
    "collapsed": false
   },
   "outputs": [],
   "source": [
    "### Bringing the dataset for flights\n",
    "spark_flight = spark.sql(\"select id, airline_designator, flight_number, CONCAT(SUBSTR(operation_date,1,4) , SUBSTR(operation_date,6,2) , SUBSTR(operation_date,9,2) , operation_time ) as flight_boarding_time, board_point, aircraft_type, class_configuration, pantry_code, crew_code, gate_number, baggage_concept, flight_status from macs_flight_mvp3 where operation_date >= '2018-03-20 00:00:00.0' union select id, airline_designator, flight_number, CONCAT(SUBSTR(operation_date,1,4) , SUBSTR(operation_date,6,2) , SUBSTR(operation_date,9,2) , operation_time ) as flight_boarding_time, board_point, aircraft_type, class_configuration, pantry_code, crew_code, gate_number, baggage_concept, flight_status from h_macs_flight_full_new where operation_date >= '2017-01-01 00:00:00.0' \")"
   ]
  },
  {
   "cell_type": "code",
   "execution_count": 15,
   "metadata": {
    "collapsed": false
   },
   "outputs": [],
   "source": [
    "spark_flight.registerTempTable(\"visitors\")\n",
    "spark_flight2 = spark.sql(\"select operation_date from visitors order by operation_date desc limit 10\")"
   ]
  },
  {
   "cell_type": "code",
   "execution_count": 16,
   "metadata": {
    "collapsed": false
   },
   "outputs": [
    {
     "name": "stdout",
     "output_type": "stream",
     "text": [
      "+-------------------+\n",
      "|     operation_date|\n",
      "+-------------------+\n",
      "|     OPERATION_DATE|\n",
      "|2018-08-30 00:00:00|\n",
      "|2018-08-29 00:00:00|\n",
      "|2018-08-28 00:00:00|\n",
      "|2018-08-27 00:00:00|\n",
      "|2018-08-26 00:00:00|\n",
      "|2018-08-25 00:00:00|\n",
      "|2018-08-24 00:00:00|\n",
      "|2018-08-23 00:00:00|\n",
      "|2018-08-22 00:00:00|\n",
      "+-------------------+"
     ]
    }
   ],
   "source": [
    "spark_flight2.show()"
   ]
  },
  {
   "cell_type": "code",
   "execution_count": 6,
   "metadata": {
    "collapsed": false
   },
   "outputs": [
    {
     "name": "stdout",
     "output_type": "stream",
     "text": [
      "1879277"
     ]
    }
   ],
   "source": [
    "### testing spark_flight data \n",
    "print(spark_flight.count())\n",
    "#spark_flight.show()"
   ]
  },
  {
   "cell_type": "code",
   "execution_count": 7,
   "metadata": {
    "collapsed": false
   },
   "outputs": [],
   "source": [
    "### Bringing the dataset for pax\n",
    "spark_pax = spark.sql(\"select pax_id, pax_booking_status, destination, cabin_class, transit_indicator, booked_class, travelled_class, seat_number as SeatNumber, pax_type, pax_group_code, boarding_date, upgrade_indicator, ticket_class, handicapped, unaccompanied_minor, priority_pax, check_in_city, date_of_birth, nationality, gender, country_of_birth, country_of_residence, mfl_id as id from h_macs_pax_joined_all_new where where boarding_date >= '2017-01-01 00:00:00.0' and upper(travelled_class) = 'J' UNION select pax_id, pax_booking_status, destination, cabin_class, transit_indicator, booked_class, travelled_class, seat_number as SeatNumber, pax_type, pax_group_code, boarding_date, upgrade_indicator, ticket_class, handicapped, unaccompanied_minor, priority_pax, check_in_city, date_of_birth, nationality, gender, country_of_birth, country_of_residence, mfl_id as id from macs_pax_joined_mvp3\")"
   ]
  },
  {
   "cell_type": "code",
   "execution_count": 14,
   "metadata": {
    "collapsed": false
   },
   "outputs": [
    {
     "name": "stderr",
     "output_type": "stream",
     "text": [
      "An error was encountered:\n",
      "Session 250 did not reach idle status in time. Current status is busy.\n"
     ]
    }
   ],
   "source": [
    "### testing spark_pax data \n",
    "print(spark_pax.count())\n",
    "#spark_pax.show()"
   ]
  },
  {
   "cell_type": "code",
   "execution_count": 8,
   "metadata": {
    "collapsed": false
   },
   "outputs": [],
   "source": [
    "spark_pax_flight_key  = [ \"id\" ]\n",
    "spark_pax_flight = spark_pax.join(spark_flight, spark_pax_flight_key , \"inner\")"
   ]
  },
  {
   "cell_type": "code",
   "execution_count": null,
   "metadata": {
    "collapsed": false
   },
   "outputs": [],
   "source": [
    "### testing spark_pax_flight data \n",
    "#print(spark_pax_flight.count())\n",
    "spark_pax_flight.show()"
   ]
  },
  {
   "cell_type": "code",
   "execution_count": 9,
   "metadata": {
    "collapsed": false
   },
   "outputs": [
    {
     "name": "stdout",
     "output_type": "stream",
     "text": [
      "DataFrame[]"
     ]
    }
   ],
   "source": [
    "### Loading the pax and flights data into Hive table\n",
    "spark_pax_flight.createOrReplaceTempView(\"spark_pax_flight_temp\")\n",
    "#sqlContext.sql(\"create table if not exists spark_pax_flight_mvp3 as select * from spark_pax_flight\")\n",
    "sqlContext.sql(\"insert overwrite table spark_pax_flight_mvp3 select * from spark_pax_flight_temp\")"
   ]
  },
  {
   "cell_type": "code",
   "execution_count": 10,
   "metadata": {
    "collapsed": false
   },
   "outputs": [
    {
     "name": "stdout",
     "output_type": "stream",
     "text": [
      "'2018-06-11 17:58:50'"
     ]
    }
   ],
   "source": [
    "from time import gmtime, strftime\n",
    "strftime(\"%Y-%m-%d %H:%M:%S\", gmtime())"
   ]
  },
  {
   "cell_type": "code",
   "execution_count": null,
   "metadata": {
    "collapsed": false
   },
   "outputs": [],
   "source": [
    "endtime = time.time()\n",
    "diff = int ( endtime - starttime ) \n",
    "minutes, seconds = diff // 60, diff % 60\n",
    "\n",
    "print(\"time taken: {} mins & {} secs \".format(minutes,seconds))"
   ]
  }
 ],
 "metadata": {
  "kernelspec": {
   "display_name": "PySpark3",
   "language": "",
   "name": "pyspark3kernel"
  },
  "language_info": {
   "codemirror_mode": {
    "name": "python",
    "version": 3
   },
   "mimetype": "text/x-python",
   "name": "pyspark3",
   "pygments_lexer": "python3"
  }
 },
 "nbformat": 4,
 "nbformat_minor": 2
}
