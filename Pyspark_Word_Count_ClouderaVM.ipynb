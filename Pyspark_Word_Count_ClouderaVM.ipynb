{
 "cells": [
  {
   "cell_type": "code",
   "execution_count": null,
   "metadata": {
    "collapsed": true
   },
   "outputs": [],
   "source": [
    "\"\"\"\n",
    "NOTE: to be able to start this jupyter Notebook, I've added the below statement to $HOME/.bashrc \n",
    "using vi editor (in Cloudera VM)   \n",
    "export PATH=$PATH:/home/cloudera/anaconda3/bin\n",
    "then run the below on the terminal:\n",
    "\n",
    "source $HOME/.bashrc\n",
    "pyspark\n",
    "\"\"\""
   ]
  },
  {
   "cell_type": "code",
   "execution_count": null,
   "metadata": {
    "collapsed": true
   },
   "outputs": [],
   "source": [
    "# A SparkContext is a way to access the spark cluster, and can be used to create RDDs,\n",
    "# accumulators and broadcast variables on that cluster\n",
    "\n",
    "# To create a SparkContext, first SparkConf should be made. The SparkConf has a\n",
    "# a configuration parameters that define our Spark driver application and/or\n",
    "# are used by Spark to allocate resources on the cluster, like memory size and cores\n",
    "# used by executor running on the worker nodes"
   ]
  },
  {
   "cell_type": "code",
   "execution_count": null,
   "metadata": {
    "collapsed": true
   },
   "outputs": [],
   "source": [
    "from pyspark import SparkConf\n",
    "from pyspark import SparkContext as sc"
   ]
  },
  {
   "cell_type": "code",
   "execution_count": null,
   "metadata": {
    "collapsed": true
   },
   "outputs": [],
   "source": [
    "# create the spark configuation for spark and then the context\n",
    "\n",
    "sc=SparkContext.getOrCreate(SparkConf().setMaster(\"local[*]\"))\n",
    "\n",
    "# getOrCreate is used to instantiate a sparkcontext and register it as a singleton object. SparkConf() - default system \n",
    "# parameters\n",
    "# local[*] Run Spark locally with as many worker threads as logical cores on your machine. \n",
    "# local[2] creates two threads which we may need in case of spark streaming, to avoid starvation\n",
    "# skipping the above line, I encounter an error while reading textFile: TypeError: textFile() missing 1 required positional\n",
    "# argument: 'name', "
   ]
  },
  {
   "cell_type": "code",
   "execution_count": null,
   "metadata": {
    "collapsed": true
   },
   "outputs": [],
   "source": [
    "# each element in the RDD 'lines' are lines\n",
    "\n",
    "lines=sc.textFile(\"hdfs:/user/cloudera/words.txt\")"
   ]
  },
  {
   "cell_type": "code",
   "execution_count": null,
   "metadata": {
    "collapsed": true
   },
   "outputs": [],
   "source": [
    "lines.count()\n",
    "\n",
    "# this line throws an error that the kernel doesn't know which python version to use\n",
    "# for this, I added the below lines in $HOME/.bashrc file:\n",
    "\"\"\"\n",
    "export IPYTHON=1\n",
    "export PYSPARK_PYTHON=python3\n",
    "export PYSPARK_DRIVER_PYTHON=ipython3\n",
    "export PYSPARK_DRIVER_PYTHON_OPTS=\"notebook\"\n",
    "\n",
    "\"\"\"\n",
    "#output: 124456"
   ]
  },
  {
   "cell_type": "code",
   "execution_count": null,
   "metadata": {
    "collapsed": true
   },
   "outputs": [],
   "source": [
    "# flatMap() method iterates over every line in the RDD, and lambda line:line.split(\" \") will be applied to each row or line in 'lines'\n",
    "# the lambda notation is an anonymous function in Python, i.e a functiont defined without using a name\n",
    "# in this case, the anonymous function takes a single argument, line and calls split(\"\") which splits the line into an array of words\n",
    "\n",
    "words=lines.flatMap(lambda line:line.split(\" \"))"
   ]
  },
  {
   "cell_type": "code",
   "execution_count": null,
   "metadata": {
    "collapsed": true
   },
   "outputs": [],
   "source": [
    "# mapper step, aor ssign initial value for each word.\n",
    "# the lambda expression creates a tupe with a word and a value of 1\n",
    "\n",
    "tuples=words.map(lambda word:(word,1))"
   ]
  },
  {
   "cell_type": "code",
   "execution_count": null,
   "metadata": {
    "collapsed": true
   },
   "outputs": [],
   "source": [
    "# Used 'flatmap' in [5] as we're splitting each line into a set of words, i.e there is \n",
    "# there is a one-to-many mapping between input lines and output words\n",
    "# in [6], used just 'map' because we want to create a tuple for every word, i.e \n",
    "# we have a one to one mapping between the input words and output tuples\n",
    "# 'flatMap' is used for one to many or one to none kind of mappings"
   ]
  },
  {
   "cell_type": "code",
   "execution_count": null,
   "metadata": {
    "collapsed": true
   },
   "outputs": [],
   "source": [
    "# reducer step: Sum all word count valuese same word \n",
    "# reduceBykey method calls for all tuples with the same word\n",
    "# the lambda exp has two args a and b, which are the count values in two tup\n",
    "# counts is an RDD\n",
    "\n",
    "counts=tuples.reduceByKey(lambda a, b:(a+b))"
   ]
  },
  {
   "cell_type": "code",
   "execution_count": null,
   "metadata": {
    "collapsed": true
   },
   "outputs": [],
   "source": [
    "# Write word counts to text file in HDFS\n",
    "# coalesce() c combines all teh RDD partitions into a single partition since we \n",
    "# want a single output file, and saveAsTextFile() writes RDD to the specified location\n",
    "# write output to file : 'counts.txt' in hdfs\n",
    "\n",
    "counts.coalesce(1).saveAsTextFile('hdfs:/user/cloudera/wordcount/outputDir2')"
   ]
  },
  {
   "cell_type": "code",
   "execution_count": null,
   "metadata": {
    "collapsed": true
   },
   "outputs": [],
   "source": [
    "# Write word counts to text file in HDFS\n",
    "# coalesce() c combines all teh RDD partitions into a single partition since we \n",
    "# want a single output file, and saveAsTextFile() writes RDD to the specified location\n",
    "# write output to file : 'counts.txt' in hdfs\n",
    "\n",
    "counts.coalesce(1).saveAsTextFile('hdfs:/user/cloudera/wordcount/outputDir2')# to view contents of count.txt, copy the file from HDFS to the local file system\n",
    "# on the cloudera VM terminal, run:\n",
    "# hadoop fs -ls /user/cloudera/wordcount/outputDir2 # specifying the path to list contents of outputDir2\n",
    "\"\"\"\n",
    "-rw-r--r--   1 cloudera cloudera          0 2018-08-25 06:21 /user/cloudera/wordcount/outputDir2/_SUCCESS\n",
    "-rw-r--r--   1 cloudera cloudera    1055325 2018-08-25 06:21 /user/cloudera/wordcount/outputDir2/part-00000\n",
    "\"\"\"\n",
    "# hadoop fs -copyToLocal wordcount/outputDir/part-00000 count.txt\n",
    "# more count.txt\n",
    "\"\"\"\n",
    "('', 517065)\n",
    "('VENTIDIUS', 3)\n",
    "('Stockfish,', 1)\n",
    "('Corin,', 2)\n",
    "('Begin', 6)\n",
    "\"\"\""
   ]
  }
 ],
 "metadata": {
  "kernelspec": {
   "display_name": "Python 3",
   "language": "python",
   "name": "python3"
  },
  "language_info": {
   "codemirror_mode": {
    "name": "ipython",
    "version": 3
   },
   "file_extension": ".py",
   "mimetype": "text/x-python",
   "name": "python",
   "nbconvert_exporter": "python",
   "pygments_lexer": "ipython3",
   "version": "3.6.1"
  }
 },
 "nbformat": 4,
 "nbformat_minor": 2
}
